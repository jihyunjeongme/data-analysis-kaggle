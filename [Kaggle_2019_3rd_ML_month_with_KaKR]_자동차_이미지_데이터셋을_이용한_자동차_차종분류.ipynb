{
  "nbformat": 4,
  "nbformat_minor": 0,
  "metadata": {
    "colab": {
      "name": "[Kaggle - 2019 3rd ML month with KaKR] 자동차 이미지 데이터셋을 이용한 자동차 차종분류",
      "version": "0.3.2",
      "provenance": [],
      "collapsed_sections": [],
      "include_colab_link": true
    },
    "kernelspec": {
      "name": "python3",
      "display_name": "Python 3"
    },
    "accelerator": "GPU"
  },
  "cells": [
    {
      "cell_type": "markdown",
      "metadata": {
        "id": "view-in-github",
        "colab_type": "text"
      },
      "source": [
        "<a href=\"https://colab.research.google.com/github/jihyunjeongme/data-analysis-kaggle/blob/master/%5BKaggle_2019_3rd_ML_month_with_KaKR%5D_%EC%9E%90%EB%8F%99%EC%B0%A8_%EC%9D%B4%EB%AF%B8%EC%A7%80_%EB%8D%B0%EC%9D%B4%ED%84%B0%EC%85%8B%EC%9D%84_%EC%9D%B4%EC%9A%A9%ED%95%9C_%EC%9E%90%EB%8F%99%EC%B0%A8_%EC%B0%A8%EC%A2%85%EB%B6%84%EB%A5%98.ipynb\" target=\"_parent\"><img src=\"https://colab.research.google.com/assets/colab-badge.svg\" alt=\"Open In Colab\"/></a>"
      ]
    },
    {
      "cell_type": "code",
      "metadata": {
        "id": "AVTcK68R78vZ",
        "colab_type": "code",
        "colab": {}
      },
      "source": [
        "# 필사 출처:\n",
        "# https://www.kaggle.com/yangsaewon/pytorch-baseline-updated-7-10\n",
        "# https://www.kaggle.com/fulrose/3rd-ml-month-car-model-classification-baseline"
      ],
      "execution_count": 0,
      "outputs": []
    },
    {
      "cell_type": "code",
      "metadata": {
        "id": "cAdkysqq-QN2",
        "colab_type": "code",
        "colab": {
          "base_uri": "https://localhost:8080/",
          "height": 462
        },
        "outputId": "7d4f8145-03e7-4bf0-a01b-fb5ca6177131"
      },
      "source": [
        "# 파이토치 사용하기\n",
        "# 참고: https://medium.com/hyunjulie/구글-colab-에서-pytorch-사용하기-e065902d4a91\n",
        "\n",
        "!pip3 install http://download.pytorch.org/whl/cu80/torch-0.3.0.post4-cp36-cp36m-linux_x86_64.whl\n",
        "!pip3 install torchvision"
      ],
      "execution_count": 1,
      "outputs": [
        {
          "output_type": "stream",
          "text": [
            "Collecting torch==0.3.0.post4 from http://download.pytorch.org/whl/cu80/torch-0.3.0.post4-cp36-cp36m-linux_x86_64.whl\n",
            "\u001b[?25l  Downloading http://download.pytorch.org/whl/cu80/torch-0.3.0.post4-cp36-cp36m-linux_x86_64.whl (592.3MB)\n",
            "\u001b[K     |████████████████████████████████| 592.3MB 1.1MB/s \n",
            "\u001b[?25hRequirement already satisfied: pyyaml in /usr/local/lib/python3.6/dist-packages (from torch==0.3.0.post4) (3.13)\n",
            "Requirement already satisfied: numpy in /usr/local/lib/python3.6/dist-packages (from torch==0.3.0.post4) (1.16.4)\n",
            "\u001b[31mERROR: torchvision 0.3.0 has requirement torch>=1.1.0, but you'll have torch 0.3.0.post4 which is incompatible.\u001b[0m\n",
            "\u001b[31mERROR: fastai 1.0.55 has requirement torch>=1.0.0, but you'll have torch 0.3.0.post4 which is incompatible.\u001b[0m\n",
            "Installing collected packages: torch\n",
            "  Found existing installation: torch 1.1.0\n",
            "    Uninstalling torch-1.1.0:\n",
            "      Successfully uninstalled torch-1.1.0\n",
            "Successfully installed torch-0.3.0.post4\n",
            "Requirement already satisfied: torchvision in /usr/local/lib/python3.6/dist-packages (0.3.0)\n",
            "Collecting torch>=1.1.0 (from torchvision)\n",
            "\u001b[?25l  Downloading https://files.pythonhosted.org/packages/30/57/d5cceb0799c06733eefce80c395459f28970ebb9e896846ce96ab579a3f1/torch-1.2.0-cp36-cp36m-manylinux1_x86_64.whl (748.8MB)\n",
            "\u001b[K     |████████████████████████████████| 748.9MB 19kB/s \n",
            "\u001b[?25hRequirement already satisfied: numpy in /usr/local/lib/python3.6/dist-packages (from torchvision) (1.16.4)\n",
            "Requirement already satisfied: pillow>=4.1.1 in /usr/local/lib/python3.6/dist-packages (from torchvision) (4.3.0)\n",
            "Requirement already satisfied: six in /usr/local/lib/python3.6/dist-packages (from torchvision) (1.12.0)\n",
            "Requirement already satisfied: olefile in /usr/local/lib/python3.6/dist-packages (from pillow>=4.1.1->torchvision) (0.46)\n",
            "Installing collected packages: torch\n",
            "  Found existing installation: torch 0.3.0.post4\n",
            "    Uninstalling torch-0.3.0.post4:\n",
            "      Successfully uninstalled torch-0.3.0.post4\n",
            "Successfully installed torch-1.2.0\n"
          ],
          "name": "stdout"
        }
      ]
    },
    {
      "cell_type": "code",
      "metadata": {
        "id": "d9dIlVVV-UgL",
        "colab_type": "code",
        "colab": {
          "base_uri": "https://localhost:8080/",
          "height": 51
        },
        "outputId": "d59a66fa-0354-492e-8329-607f34a84993"
      },
      "source": [
        "import gc\n",
        "import os\n",
        "import warnings\n",
        "import numpy as np \n",
        "import pandas as pd\n",
        "import seaborn as sns\n",
        "import matplotlib.pyplot as plt\n",
        "from tqdm import tqdm\n",
        "\n",
        "from keras import backend as K\n",
        "warnings.filterwarnings(action='ignore')\n",
        "\n",
        "K.image_data_format()"
      ],
      "execution_count": 2,
      "outputs": [
        {
          "output_type": "stream",
          "text": [
            "Using TensorFlow backend.\n"
          ],
          "name": "stderr"
        },
        {
          "output_type": "execute_result",
          "data": {
            "text/plain": [
              "'channels_last'"
            ]
          },
          "metadata": {
            "tags": []
          },
          "execution_count": 2
        }
      ]
    },
    {
      "cell_type": "code",
      "metadata": {
        "id": "hMgQ8XmvABkQ",
        "colab_type": "code",
        "colab": {
          "base_uri": "https://localhost:8080/",
          "height": 122
        },
        "outputId": "ab23074b-73ee-49c7-d200-7f4105d3a779"
      },
      "source": [
        "# test, traing set 데이터 불러오기\n",
        "\n",
        "from google.colab import drive\n",
        "\n",
        "drive.mount('/content/gdrive')"
      ],
      "execution_count": 3,
      "outputs": [
        {
          "output_type": "stream",
          "text": [
            "Go to this URL in a browser: https://accounts.google.com/o/oauth2/auth?client_id=947318989803-6bn6qk8qdgf4n4g3pfee6491hc0brc4i.apps.googleusercontent.com&redirect_uri=urn%3Aietf%3Awg%3Aoauth%3A2.0%3Aoob&scope=email%20https%3A%2F%2Fwww.googleapis.com%2Fauth%2Fdocs.test%20https%3A%2F%2Fwww.googleapis.com%2Fauth%2Fdrive%20https%3A%2F%2Fwww.googleapis.com%2Fauth%2Fdrive.photos.readonly%20https%3A%2F%2Fwww.googleapis.com%2Fauth%2Fpeopleapi.readonly&response_type=code\n",
            "\n",
            "Enter your authorization code:\n",
            "··········\n",
            "Mounted at /content/gdrive\n"
          ],
          "name": "stdout"
        }
      ]
    },
    {
      "cell_type": "code",
      "metadata": {
        "id": "H3ZdU4mrDOs1",
        "colab_type": "code",
        "colab": {
          "base_uri": "https://localhost:8080/",
          "height": 54
        },
        "outputId": "6aa0491d-da16-4aed-df0a-41b3a982c66c"
      },
      "source": [
        "cd /content/gdrive/My Drive/Colab Notebooks/dataanalysis/kaggle/2019_3rd_image_car_KaKR"
      ],
      "execution_count": 4,
      "outputs": [
        {
          "output_type": "stream",
          "text": [
            "/content/gdrive/My Drive/Colab Notebooks/dataanalysis/kaggle/2019_3rd_image_car_KaKR\n"
          ],
          "name": "stdout"
        }
      ]
    },
    {
      "cell_type": "markdown",
      "metadata": {
        "id": "UwPYZ0qsElRV",
        "colab_type": "text"
      },
      "source": [
        "## Preparation for the Data\n",
        "\n",
        "### 파일 세부 설명\n",
        "아래는 각 파일 별 세부 설명 입니다.\n",
        "\n",
        "- train.csv - Train 셋의 이미지 파일명, 바운딩박스 좌표, 차종정보\n",
        "- test.csv - Test 셋의 이미지 파일명, 바운딩박스 좌표, 차종정보\n",
        "- submission.csv - Test셋과 대응되는 제출 파일\n",
        "- class.csv - 데이터 셋의 class 컬럼과 대응되는 차종의 레이블\n",
        "- train.zip - Train 이미지 파일\n",
        "- test.zip - Test 이미지 파일\n",
        "\n"
      ]
    },
    {
      "cell_type": "code",
      "metadata": {
        "id": "YoPGbApADrTy",
        "colab_type": "code",
        "colab": {
          "base_uri": "https://localhost:8080/",
          "height": 153
        },
        "outputId": "82d344f3-a63d-4107-b46b-3c480580ff64"
      },
      "source": [
        "DATA_PATH = './'\n",
        "os.listdir(DATA_PATH)"
      ],
      "execution_count": 21,
      "outputs": [
        {
          "output_type": "execute_result",
          "data": {
            "text/plain": [
              "['sample_submission.csv',\n",
              " 'test.zip',\n",
              " 'test.csv',\n",
              " 'train.zip',\n",
              " 'train.csv',\n",
              " 'class.csv',\n",
              " '2019-3rd-ml-month-with-kakr.zip',\n",
              " '2019-3rd-ml-month-with-kakr']"
            ]
          },
          "metadata": {
            "tags": []
          },
          "execution_count": 21
        }
      ]
    },
    {
      "cell_type": "code",
      "metadata": {
        "id": "uKP9fVVjD4ip",
        "colab_type": "code",
        "colab": {}
      },
      "source": [
        "# 이미지 폴더 경로\n",
        "TRAIN_IMG_PATH = os.path.join(DATA_PATH, 'train')\n",
        "TEST_IMG_PATH = os.path.join(DATA_PATH, 'test')\n",
        "\n",
        "# CSV 파일 경로\n",
        "df_train = pd.read_csv(os.path.join(DATA_PATH, 'train.csv'))\n",
        "df_test = pd.read_csv(os.path.join(DATA_PATH, 'test.csv'))\n",
        "df_class = pd.read_csv(os.path.join(DATA_PATH, 'class.csv'))"
      ],
      "execution_count": 0,
      "outputs": []
    },
    {
      "cell_type": "markdown",
      "metadata": {
        "id": "Eevp4WPREti7",
        "colab_type": "text"
      },
      "source": [
        "# **Data Exploration**  \n",
        "---\n",
        "- 실제 데이터가 Description과 일치하는지, 데이터는 어떻게 구성되어 있고 크랠스 별로 어떤 분포를 가지고 있는지 등 데이터에 전반적으로 살펴봄\n",
        "\n",
        "\n",
        "---\n",
        "## Check Data\n",
        "### 컬럼 세부 설명\n",
        "각 컬럼 별 세부 설명 입니다.\n",
        "\n",
        "- img_file - 데이터 셋의 각 로우와 연결되는 이미지 파일 이름\n",
        "- bbox_x1 - 바운딩 박스 x1 좌표 (좌상단 x)\n",
        "- bbox_y1 - 바운딩 박스 y1 좌표 (좌상단 y)\n",
        "- bbox_x2 - 바운딩 박스 x2 좌표 (우하단 x)\n",
        "- bbox_y2 - 바운딩 박스 y2 좌표 (우하단 y)\n",
        "- class - 예측하려는 차종(Target)\n",
        "- id - 각 데이터 셋에 기입 되어 있는 클래스 id\n",
        "- name - 클래스 id에 대응되는 실제 차종 레이블"
      ]
    },
    {
      "cell_type": "code",
      "metadata": {
        "id": "VjgSRI8dEfLT",
        "colab_type": "code",
        "colab": {
          "base_uri": "https://localhost:8080/",
          "height": 204
        },
        "outputId": "bfcec1ca-8cfd-44a2-efcc-95432ddb2f08"
      },
      "source": [
        "df_train.head()"
      ],
      "execution_count": 9,
      "outputs": [
        {
          "output_type": "execute_result",
          "data": {
            "text/html": [
              "<div>\n",
              "<style scoped>\n",
              "    .dataframe tbody tr th:only-of-type {\n",
              "        vertical-align: middle;\n",
              "    }\n",
              "\n",
              "    .dataframe tbody tr th {\n",
              "        vertical-align: top;\n",
              "    }\n",
              "\n",
              "    .dataframe thead th {\n",
              "        text-align: right;\n",
              "    }\n",
              "</style>\n",
              "<table border=\"1\" class=\"dataframe\">\n",
              "  <thead>\n",
              "    <tr style=\"text-align: right;\">\n",
              "      <th></th>\n",
              "      <th>img_file</th>\n",
              "      <th>bbox_x1</th>\n",
              "      <th>bbox_y1</th>\n",
              "      <th>bbox_x2</th>\n",
              "      <th>bbox_y2</th>\n",
              "      <th>class</th>\n",
              "    </tr>\n",
              "  </thead>\n",
              "  <tbody>\n",
              "    <tr>\n",
              "      <th>0</th>\n",
              "      <td>train_00001.jpg</td>\n",
              "      <td>1</td>\n",
              "      <td>80</td>\n",
              "      <td>641</td>\n",
              "      <td>461</td>\n",
              "      <td>108</td>\n",
              "    </tr>\n",
              "    <tr>\n",
              "      <th>1</th>\n",
              "      <td>train_00002.jpg</td>\n",
              "      <td>57</td>\n",
              "      <td>53</td>\n",
              "      <td>293</td>\n",
              "      <td>236</td>\n",
              "      <td>71</td>\n",
              "    </tr>\n",
              "    <tr>\n",
              "      <th>2</th>\n",
              "      <td>train_00003.jpg</td>\n",
              "      <td>35</td>\n",
              "      <td>42</td>\n",
              "      <td>227</td>\n",
              "      <td>160</td>\n",
              "      <td>76</td>\n",
              "    </tr>\n",
              "    <tr>\n",
              "      <th>3</th>\n",
              "      <td>train_00004.jpg</td>\n",
              "      <td>10</td>\n",
              "      <td>21</td>\n",
              "      <td>254</td>\n",
              "      <td>165</td>\n",
              "      <td>188</td>\n",
              "    </tr>\n",
              "    <tr>\n",
              "      <th>4</th>\n",
              "      <td>train_00005.jpg</td>\n",
              "      <td>1</td>\n",
              "      <td>67</td>\n",
              "      <td>772</td>\n",
              "      <td>573</td>\n",
              "      <td>44</td>\n",
              "    </tr>\n",
              "  </tbody>\n",
              "</table>\n",
              "</div>"
            ],
            "text/plain": [
              "          img_file  bbox_x1  bbox_y1  bbox_x2  bbox_y2  class\n",
              "0  train_00001.jpg        1       80      641      461    108\n",
              "1  train_00002.jpg       57       53      293      236     71\n",
              "2  train_00003.jpg       35       42      227      160     76\n",
              "3  train_00004.jpg       10       21      254      165    188\n",
              "4  train_00005.jpg        1       67      772      573     44"
            ]
          },
          "metadata": {
            "tags": []
          },
          "execution_count": 9
        }
      ]
    },
    {
      "cell_type": "code",
      "metadata": {
        "id": "UXHFdXlrF25q",
        "colab_type": "code",
        "colab": {
          "base_uri": "https://localhost:8080/",
          "height": 204
        },
        "outputId": "5e561f5f-2906-469b-c58d-baaef2530855"
      },
      "source": [
        "df_test.head()"
      ],
      "execution_count": 10,
      "outputs": [
        {
          "output_type": "execute_result",
          "data": {
            "text/html": [
              "<div>\n",
              "<style scoped>\n",
              "    .dataframe tbody tr th:only-of-type {\n",
              "        vertical-align: middle;\n",
              "    }\n",
              "\n",
              "    .dataframe tbody tr th {\n",
              "        vertical-align: top;\n",
              "    }\n",
              "\n",
              "    .dataframe thead th {\n",
              "        text-align: right;\n",
              "    }\n",
              "</style>\n",
              "<table border=\"1\" class=\"dataframe\">\n",
              "  <thead>\n",
              "    <tr style=\"text-align: right;\">\n",
              "      <th></th>\n",
              "      <th>img_file</th>\n",
              "      <th>bbox_x1</th>\n",
              "      <th>bbox_y1</th>\n",
              "      <th>bbox_x2</th>\n",
              "      <th>bbox_y2</th>\n",
              "    </tr>\n",
              "  </thead>\n",
              "  <tbody>\n",
              "    <tr>\n",
              "      <th>0</th>\n",
              "      <td>test_00001.jpg</td>\n",
              "      <td>199</td>\n",
              "      <td>184</td>\n",
              "      <td>1116</td>\n",
              "      <td>809</td>\n",
              "    </tr>\n",
              "    <tr>\n",
              "      <th>1</th>\n",
              "      <td>test_00002.jpg</td>\n",
              "      <td>55</td>\n",
              "      <td>61</td>\n",
              "      <td>480</td>\n",
              "      <td>257</td>\n",
              "    </tr>\n",
              "    <tr>\n",
              "      <th>2</th>\n",
              "      <td>test_00003.jpg</td>\n",
              "      <td>42</td>\n",
              "      <td>123</td>\n",
              "      <td>602</td>\n",
              "      <td>413</td>\n",
              "    </tr>\n",
              "    <tr>\n",
              "      <th>3</th>\n",
              "      <td>test_00004.jpg</td>\n",
              "      <td>13</td>\n",
              "      <td>8</td>\n",
              "      <td>619</td>\n",
              "      <td>393</td>\n",
              "    </tr>\n",
              "    <tr>\n",
              "      <th>4</th>\n",
              "      <td>test_00005.jpg</td>\n",
              "      <td>8</td>\n",
              "      <td>9</td>\n",
              "      <td>209</td>\n",
              "      <td>93</td>\n",
              "    </tr>\n",
              "  </tbody>\n",
              "</table>\n",
              "</div>"
            ],
            "text/plain": [
              "         img_file  bbox_x1  bbox_y1  bbox_x2  bbox_y2\n",
              "0  test_00001.jpg      199      184     1116      809\n",
              "1  test_00002.jpg       55       61      480      257\n",
              "2  test_00003.jpg       42      123      602      413\n",
              "3  test_00004.jpg       13        8      619      393\n",
              "4  test_00005.jpg        8        9      209       93"
            ]
          },
          "metadata": {
            "tags": []
          },
          "execution_count": 10
        }
      ]
    },
    {
      "cell_type": "code",
      "metadata": {
        "id": "MhjOj5pzF6sa",
        "colab_type": "code",
        "colab": {
          "base_uri": "https://localhost:8080/",
          "height": 249
        },
        "outputId": "c71554b3-ee1f-4f46-8139-952d609db334"
      },
      "source": [
        "# 데이터 누락 체크\n",
        "\n",
        "if set(list(df_train.img_file)) == set(os.listdir(TRAIN_IMG_PATH)):\n",
        "  print(\"Train file 누락 없음\")\n",
        "else :\n",
        "  print(\"Train file 누락\")\n",
        "  \n",
        "if set(list(df_test.img_file)) == set(os.listdir(TEST_IMG_PATH)) :\n",
        "    print(\"Test file 누락 없음!\")\n",
        "else : \n",
        "    print(\"Test file 누락\")"
      ],
      "execution_count": 29,
      "outputs": [
        {
          "output_type": "stream",
          "text": [
            "Train file 누락\n"
          ],
          "name": "stdout"
        },
        {
          "output_type": "error",
          "ename": "FileNotFoundError",
          "evalue": "ignored",
          "traceback": [
            "\u001b[0;31m---------------------------------------------------------------------------\u001b[0m",
            "\u001b[0;31mFileNotFoundError\u001b[0m                         Traceback (most recent call last)",
            "\u001b[0;32m<ipython-input-29-f8f7e959fe32>\u001b[0m in \u001b[0;36m<module>\u001b[0;34m()\u001b[0m\n\u001b[1;32m      5\u001b[0m   \u001b[0mprint\u001b[0m\u001b[0;34m(\u001b[0m\u001b[0;34m\"Train file 누락\"\u001b[0m\u001b[0;34m)\u001b[0m\u001b[0;34m\u001b[0m\u001b[0;34m\u001b[0m\u001b[0m\n\u001b[1;32m      6\u001b[0m \u001b[0;34m\u001b[0m\u001b[0m\n\u001b[0;32m----> 7\u001b[0;31m \u001b[0;32mif\u001b[0m \u001b[0mset\u001b[0m\u001b[0;34m(\u001b[0m\u001b[0mlist\u001b[0m\u001b[0;34m(\u001b[0m\u001b[0mdf_test\u001b[0m\u001b[0;34m.\u001b[0m\u001b[0mimg_file\u001b[0m\u001b[0;34m)\u001b[0m\u001b[0;34m)\u001b[0m \u001b[0;34m==\u001b[0m \u001b[0mset\u001b[0m\u001b[0;34m(\u001b[0m\u001b[0mos\u001b[0m\u001b[0;34m.\u001b[0m\u001b[0mlistdir\u001b[0m\u001b[0;34m(\u001b[0m\u001b[0mTEST_IMG_PATH\u001b[0m\u001b[0;34m)\u001b[0m\u001b[0;34m)\u001b[0m \u001b[0;34m:\u001b[0m\u001b[0;34m\u001b[0m\u001b[0;34m\u001b[0m\u001b[0m\n\u001b[0m\u001b[1;32m      8\u001b[0m     \u001b[0mprint\u001b[0m\u001b[0;34m(\u001b[0m\u001b[0;34m\"Test file 누락 없음!\"\u001b[0m\u001b[0;34m)\u001b[0m\u001b[0;34m\u001b[0m\u001b[0;34m\u001b[0m\u001b[0m\n\u001b[1;32m      9\u001b[0m \u001b[0;32melse\u001b[0m \u001b[0;34m:\u001b[0m\u001b[0;34m\u001b[0m\u001b[0;34m\u001b[0m\u001b[0m\n",
            "\u001b[0;31mFileNotFoundError\u001b[0m: [Errno 2] No such file or directory: './test'"
          ]
        }
      ]
    },
    {
      "cell_type": "code",
      "metadata": {
        "id": "B9QAQkVGH2KK",
        "colab_type": "code",
        "colab": {}
      },
      "source": [
        ""
      ],
      "execution_count": 0,
      "outputs": []
    },
    {
      "cell_type": "code",
      "metadata": {
        "id": "wtUr23-FLu_U",
        "colab_type": "code",
        "colab": {}
      },
      "source": [
        ""
      ],
      "execution_count": 0,
      "outputs": []
    }
  ]
}